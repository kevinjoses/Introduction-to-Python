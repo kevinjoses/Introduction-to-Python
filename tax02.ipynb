{
  "nbformat": 4,
  "nbformat_minor": 0,
  "metadata": {
    "colab": {
      "name": "tax02.ipynb",
      "provenance": []
    },
    "kernelspec": {
      "name": "python3",
      "display_name": "Python 3"
    },
    "language_info": {
      "name": "python"
    }
  },
  "cells": [
    {
      "cell_type": "code",
      "source": [
        "x=int(input(\"enter your basic salary\"))"
      ],
      "metadata": {
        "colab": {
          "base_uri": "https://localhost:8080/"
        },
        "id": "RQMDJ7vLLDzG",
        "outputId": "c043202e-a690-427d-a687-d1124ab99773"
      },
      "execution_count": 4,
      "outputs": [
        {
          "name": "stdout",
          "output_type": "stream",
          "text": [
            "enter your basic salary766086987\n"
          ]
        }
      ]
    },
    {
      "cell_type": "code",
      "source": [
        "if x>500000:\n",
        "  print(\"you are taxable\")\n",
        "if x<500000:\n",
        "  print(\"you are not taxable\")\n",
        "  print(x-300000)*10/100\n"
      ],
      "metadata": {
        "colab": {
          "base_uri": "https://localhost:8080/"
        },
        "id": "0Qj_6N6hOwZ3",
        "outputId": "2ff7107e-e20f-46dc-d4b9-ca1831da65fc"
      },
      "execution_count": 6,
      "outputs": [
        {
          "output_type": "stream",
          "name": "stdout",
          "text": [
            "you are taxable\n"
          ]
        }
      ]
    },
    {
      "cell_type": "code",
      "source": [
        "x=int(input(\"enter your basic salary\"))\n",
        "if x>500000:\n",
        "  print(\"you are taxable\")\n",
        "  print((x-500000)*10/100)\n",
        "if x<500000:\n",
        "  print(\"you are not taxable\")  "
      ],
      "metadata": {
        "colab": {
          "base_uri": "https://localhost:8080/"
        },
        "id": "eOZ24dGvP3dk",
        "outputId": "ac68aabf-07a1-411d-dc13-012effa988df"
      },
      "execution_count": 7,
      "outputs": [
        {
          "output_type": "stream",
          "name": "stdout",
          "text": [
            "enter your basic salary766086987\n",
            "you are taxable\n",
            "76558698.7\n"
          ]
        }
      ]
    },
    {
      "cell_type": "code",
      "source": [
        "x=int(input(\"enter your basic salary\"))\n",
        "if 500000<x"
      ],
      "metadata": {
        "id": "uPsdp9XLXluR"
      },
      "execution_count": null,
      "outputs": []
    }
  ]
}