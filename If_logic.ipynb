{
  "nbformat": 4,
  "nbformat_minor": 0,
  "metadata": {
    "colab": {
      "name": "If logic.ipynb",
      "provenance": []
    },
    "kernelspec": {
      "name": "python3",
      "display_name": "Python 3"
    },
    "language_info": {
      "name": "python"
    }
  },
  "cells": [
    {
      "cell_type": "code",
      "execution_count": 4,
      "metadata": {
        "id": "FcdeJ4-FyPCi"
      },
      "outputs": [],
      "source": [
        "x=20"
      ]
    },
    {
      "cell_type": "code",
      "source": [
        "if x>10:\n",
        "  print(\"x>10\")"
      ],
      "metadata": {
        "colab": {
          "base_uri": "https://localhost:8080/"
        },
        "id": "XPXzjWVb0U6c",
        "outputId": "2d8e67f4-da20-47fd-d80b-b097c820b833"
      },
      "execution_count": 5,
      "outputs": [
        {
          "output_type": "stream",
          "name": "stdout",
          "text": [
            "x>10\n"
          ]
        }
      ]
    },
    {
      "cell_type": "code",
      "source": [
        "x=20"
      ],
      "metadata": {
        "id": "OwpLk9xH1Zm_"
      },
      "execution_count": 6,
      "outputs": []
    },
    {
      "cell_type": "code",
      "source": [
        "if x>10:\n",
        "  print(\"x>10\")\n",
        "if x<10:\n",
        "  print(\"x<10\")\n",
        "if x==10:\n",
        "  print(\"x=10\")"
      ],
      "metadata": {
        "colab": {
          "base_uri": "https://localhost:8080/"
        },
        "id": "YRkDQDkt3JR3",
        "outputId": "94af8ae1-fb20-4322-9058-31969de26b4f"
      },
      "execution_count": 12,
      "outputs": [
        {
          "output_type": "stream",
          "name": "stdout",
          "text": [
            "x>10\n"
          ]
        }
      ]
    },
    {
      "cell_type": "code",
      "source": [
        "x=int(input(\"enter your mark\"))\n",
        "if x>100:\n",
        "  print(\"pass\")\n",
        "if x<100:\n",
        "  print(\"fail\")\n",
        "if x==100:\n",
        "  print(\"just pass\")\n",
        "     "
      ],
      "metadata": {
        "colab": {
          "base_uri": "https://localhost:8080/"
        },
        "id": "TzINLBpJAmra",
        "outputId": "4d580ebe-5de3-4391-dc52-7570378b5a84"
      },
      "execution_count": 15,
      "outputs": [
        {
          "output_type": "stream",
          "name": "stdout",
          "text": [
            "enter your mark55\n",
            "fail\n"
          ]
        }
      ]
    },
    {
      "cell_type": "code",
      "source": [
        "x=int(input(\"enter your salary\"))\n",
        "if x<250000:\n",
        "  print(\"you are not taxable\")\n",
        "if x>250000:\n",
        "  print(x*10/100)\n",
        "  print(\"you are taxable\")\n",
        "    "
      ],
      "metadata": {
        "colab": {
          "base_uri": "https://localhost:8080/"
        },
        "id": "u88FjOyDBF8R",
        "outputId": "81eafb75-ccc1-4552-a5ba-39281a97d351"
      },
      "execution_count": 17,
      "outputs": [
        {
          "output_type": "stream",
          "name": "stdout",
          "text": [
            "enter your salary400000\n",
            "40000.0\n",
            "you are taxable\n"
          ]
        }
      ]
    },
    {
      "cell_type": "code",
      "source": [
        ""
      ],
      "metadata": {
        "id": "bF0tX1DJE37e"
      },
      "execution_count": null,
      "outputs": []
    }
  ]
}